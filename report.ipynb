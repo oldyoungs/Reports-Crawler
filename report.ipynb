{
 "cells": [
  {
   "cell_type": "markdown",
   "metadata": {},
   "source": [
    "# 检测报告分析"
   ]
  },
  {
   "cell_type": "markdown",
   "metadata": {},
   "source": [
    "## 数据内容：2018年5月 检测报告数据"
   ]
  },
  {
   "cell_type": "code",
   "execution_count": 1,
   "metadata": {},
   "outputs": [],
   "source": [
    "#coding:utf-8"
   ]
  },
  {
   "cell_type": "markdown",
   "metadata": {},
   "source": [
    "## 一、预处理"
   ]
  },
  {
   "cell_type": "code",
   "execution_count": 2,
   "metadata": {},
   "outputs": [],
   "source": [
    "#导入模块\n",
    "import pandas as pd\n",
    "import numpy as np\n",
    "import matplotlib\n",
    "import math\n",
    "import matplotlib.pyplot as plt\n",
    "from pylab import mpl  \n",
    "#导入自定义函数\n",
    "import get_city\n",
    "import short_name\n",
    "#中文制图设置\n",
    "matplotlib.matplotlib_fname()\n",
    "plt.rcParams['font.sans-serif']=['MicrosoftYaHei']\n",
    "plt.rcParams['axes.unicode_minus']=False"
   ]
  },
  {
   "cell_type": "markdown",
   "metadata": {},
   "source": [
    "## 二、数据处理"
   ]
  },
  {
   "cell_type": "markdown",
   "metadata": {},
   "source": [
    "### 1、导入原始数据"
   ]
  },
  {
   "cell_type": "code",
   "execution_count": 3,
   "metadata": {},
   "outputs": [],
   "source": [
    "raw_data = pd.read_csv('201801.csv')\n",
    "#raw_data.head(5)"
   ]
  },
  {
   "cell_type": "markdown",
   "metadata": {},
   "source": [
    "### 2、清洗数据"
   ]
  },
  {
   "cell_type": "code",
   "execution_count": 4,
   "metadata": {},
   "outputs": [],
   "source": [
    "def reform_data(data):\n",
    "    #删除重复信息\n",
    "    drop_dup_data = data.drop_duplicates(keep='first')\n",
    "    #显示删除情况\n",
    "    print(u'原有项目记录共{}条，删除重复信息后剩余{}条，重复信息有{}条。'.format(len(data),len(drop_dup_data),len(data)-len(drop_dup_data)))\n",
    "    \n",
    "    #通过单位地址检索项目所在城市信息\n",
    "    city_column = drop_dup_data.loc[:,u'单位地址'].apply(lambda x:get_city.find_city(x))\n",
    "    add_city_data = pd.concat([drop_dup_data.drop(u'单位地址', axis=1),city_column.to_frame()],axis=1)\n",
    "    add_city_data.rename(columns={u'单位地址':u'城市'},inplace = True)\n",
    "    \n",
    "    #删除原列表中不必要的项（项目编号、报告编号、页面链接）\n",
    "    drop_unnecc_data = add_city_data.drop([u'项目编号',u'报告编号',u'页面链接'], axis=1)\n",
    "    \n",
    "    #将完成日期转化为pandas可识别的time模式\n",
    "    drop_unnecc_data[u'完成日期']= pd.to_datetime(drop_unnecc_data[u'完成日期'])\n",
    "    \n",
    "    return drop_unnecc_data"
   ]
  },
  {
   "cell_type": "code",
   "execution_count": 5,
   "metadata": {
    "scrolled": false
   },
   "outputs": [
    {
     "name": "stdout",
     "output_type": "stream",
     "text": [
      "原有项目记录共3320条，删除重复信息后剩余3320条，重复信息有0条。\n"
     ]
    }
   ],
   "source": [
    "df = reform_data(raw_data)\n",
    "#df.head(10)"
   ]
  },
  {
   "cell_type": "markdown",
   "metadata": {},
   "source": [
    "* *信息统计*"
   ]
  },
  {
   "cell_type": "code",
   "execution_count": 6,
   "metadata": {
    "scrolled": true
   },
   "outputs": [
    {
     "name": "stdout",
     "output_type": "stream",
     "text": [
      "<class 'pandas.core.frame.DataFrame'>\n",
      "Int64Index: 3320 entries, 0 to 3319\n",
      "Data columns (total 6 columns):\n",
      "项目名称          3320 non-null object\n",
      "委托单位(建设单位)    3320 non-null object\n",
      "检测单位          3320 non-null object\n",
      "检测结论          3320 non-null object\n",
      "完成日期          3320 non-null datetime64[ns]\n",
      "城市            3320 non-null object\n",
      "dtypes: datetime64[ns](1), object(5)\n",
      "memory usage: 181.6+ KB\n"
     ]
    }
   ],
   "source": [
    "df.info()"
   ]
  },
  {
   "cell_type": "markdown",
   "metadata": {},
   "source": [
    "**说明：所有信息皆为有效信息。**"
   ]
  },
  {
   "cell_type": "markdown",
   "metadata": {},
   "source": [
    "## 三、数据分析"
   ]
  },
  {
   "cell_type": "markdown",
   "metadata": {},
   "source": [
    "* 定义列统计函数"
   ]
  },
  {
   "cell_type": "code",
   "execution_count": 7,
   "metadata": {},
   "outputs": [],
   "source": [
    "def count_column(dataframe,column_name):\n",
    "    #统计列数量\n",
    "    num = dataframe[column_name].value_counts(normalize=False, sort=True)\n",
    "    #统计数量百分比\n",
    "    per = dataframe[column_name].value_counts(normalize=True, sort=True)\n",
    "    #合并数量与百分比\n",
    "    column_df = pd.concat([num,per],axis=1)\n",
    "    #更新表头\n",
    "    column_df.columns=[u'数量',u'百分比']\n",
    "    return column_df"
   ]
  },
  {
   "cell_type": "markdown",
   "metadata": {},
   "source": [
    "### 1、整体统计"
   ]
  },
  {
   "cell_type": "markdown",
   "metadata": {},
   "source": [
    "> **`检测结论`统计**"
   ]
  },
  {
   "cell_type": "code",
   "execution_count": 8,
   "metadata": {
    "scrolled": false
   },
   "outputs": [
    {
     "data": {
      "text/html": [
       "<div>\n",
       "<style scoped>\n",
       "    .dataframe tbody tr th:only-of-type {\n",
       "        vertical-align: middle;\n",
       "    }\n",
       "\n",
       "    .dataframe tbody tr th {\n",
       "        vertical-align: top;\n",
       "    }\n",
       "\n",
       "    .dataframe thead th {\n",
       "        text-align: right;\n",
       "    }\n",
       "</style>\n",
       "<table border=\"1\" class=\"dataframe\">\n",
       "  <thead>\n",
       "    <tr style=\"text-align: right;\">\n",
       "      <th></th>\n",
       "      <th>数量</th>\n",
       "      <th>百分比</th>\n",
       "    </tr>\n",
       "  </thead>\n",
       "  <tbody>\n",
       "    <tr>\n",
       "      <th>合格</th>\n",
       "      <td>3298</td>\n",
       "      <td>0.993373</td>\n",
       "    </tr>\n",
       "    <tr>\n",
       "      <th>不合格</th>\n",
       "      <td>22</td>\n",
       "      <td>0.006627</td>\n",
       "    </tr>\n",
       "  </tbody>\n",
       "</table>\n",
       "</div>"
      ],
      "text/plain": [
       "       数量       百分比\n",
       "合格   3298  0.993373\n",
       "不合格    22  0.006627"
      ]
     },
     "execution_count": 8,
     "metadata": {},
     "output_type": "execute_result"
    }
   ],
   "source": [
    "count_column(df,u'检测结论')"
   ]
  },
  {
   "cell_type": "markdown",
   "metadata": {},
   "source": [
    "* **说明：  **\n",
    "**在总计2591份报告中，2581份为合格报告（99.61%），10份为不合格报告（0.39%）。**"
   ]
  },
  {
   "cell_type": "markdown",
   "metadata": {},
   "source": [
    "> **`完成日期`统计**"
   ]
  },
  {
   "cell_type": "code",
   "execution_count": 9,
   "metadata": {
    "scrolled": false
   },
   "outputs": [
    {
     "data": {
      "text/html": [
       "<div>\n",
       "<style scoped>\n",
       "    .dataframe tbody tr th:only-of-type {\n",
       "        vertical-align: middle;\n",
       "    }\n",
       "\n",
       "    .dataframe tbody tr th {\n",
       "        vertical-align: top;\n",
       "    }\n",
       "\n",
       "    .dataframe thead th {\n",
       "        text-align: right;\n",
       "    }\n",
       "</style>\n",
       "<table border=\"1\" class=\"dataframe\">\n",
       "  <thead>\n",
       "    <tr style=\"text-align: right;\">\n",
       "      <th></th>\n",
       "      <th>数量</th>\n",
       "      <th>百分比</th>\n",
       "    </tr>\n",
       "  </thead>\n",
       "  <tbody>\n",
       "    <tr>\n",
       "      <th>2017-12-31</th>\n",
       "      <td>3</td>\n",
       "      <td>0.000904</td>\n",
       "    </tr>\n",
       "    <tr>\n",
       "      <th>2018-01-02</th>\n",
       "      <td>131</td>\n",
       "      <td>0.039458</td>\n",
       "    </tr>\n",
       "    <tr>\n",
       "      <th>2018-01-03</th>\n",
       "      <td>155</td>\n",
       "      <td>0.046687</td>\n",
       "    </tr>\n",
       "    <tr>\n",
       "      <th>2018-01-04</th>\n",
       "      <td>130</td>\n",
       "      <td>0.039157</td>\n",
       "    </tr>\n",
       "    <tr>\n",
       "      <th>2018-01-05</th>\n",
       "      <td>118</td>\n",
       "      <td>0.035542</td>\n",
       "    </tr>\n",
       "    <tr>\n",
       "      <th>2018-01-06</th>\n",
       "      <td>16</td>\n",
       "      <td>0.004819</td>\n",
       "    </tr>\n",
       "    <tr>\n",
       "      <th>2018-01-07</th>\n",
       "      <td>1</td>\n",
       "      <td>0.000301</td>\n",
       "    </tr>\n",
       "    <tr>\n",
       "      <th>2018-01-08</th>\n",
       "      <td>148</td>\n",
       "      <td>0.044578</td>\n",
       "    </tr>\n",
       "    <tr>\n",
       "      <th>2018-01-09</th>\n",
       "      <td>134</td>\n",
       "      <td>0.040361</td>\n",
       "    </tr>\n",
       "    <tr>\n",
       "      <th>2018-01-10</th>\n",
       "      <td>107</td>\n",
       "      <td>0.032229</td>\n",
       "    </tr>\n",
       "    <tr>\n",
       "      <th>2018-01-11</th>\n",
       "      <td>149</td>\n",
       "      <td>0.044880</td>\n",
       "    </tr>\n",
       "    <tr>\n",
       "      <th>2018-01-12</th>\n",
       "      <td>154</td>\n",
       "      <td>0.046386</td>\n",
       "    </tr>\n",
       "    <tr>\n",
       "      <th>2018-01-13</th>\n",
       "      <td>28</td>\n",
       "      <td>0.008434</td>\n",
       "    </tr>\n",
       "    <tr>\n",
       "      <th>2018-01-14</th>\n",
       "      <td>6</td>\n",
       "      <td>0.001807</td>\n",
       "    </tr>\n",
       "    <tr>\n",
       "      <th>2018-01-15</th>\n",
       "      <td>159</td>\n",
       "      <td>0.047892</td>\n",
       "    </tr>\n",
       "    <tr>\n",
       "      <th>2018-01-16</th>\n",
       "      <td>117</td>\n",
       "      <td>0.035241</td>\n",
       "    </tr>\n",
       "    <tr>\n",
       "      <th>2018-01-17</th>\n",
       "      <td>132</td>\n",
       "      <td>0.039759</td>\n",
       "    </tr>\n",
       "    <tr>\n",
       "      <th>2018-01-18</th>\n",
       "      <td>162</td>\n",
       "      <td>0.048795</td>\n",
       "    </tr>\n",
       "    <tr>\n",
       "      <th>2018-01-19</th>\n",
       "      <td>124</td>\n",
       "      <td>0.037349</td>\n",
       "    </tr>\n",
       "    <tr>\n",
       "      <th>2018-01-20</th>\n",
       "      <td>29</td>\n",
       "      <td>0.008735</td>\n",
       "    </tr>\n",
       "    <tr>\n",
       "      <th>2018-01-21</th>\n",
       "      <td>7</td>\n",
       "      <td>0.002108</td>\n",
       "    </tr>\n",
       "    <tr>\n",
       "      <th>2018-01-22</th>\n",
       "      <td>155</td>\n",
       "      <td>0.046687</td>\n",
       "    </tr>\n",
       "    <tr>\n",
       "      <th>2018-01-23</th>\n",
       "      <td>158</td>\n",
       "      <td>0.047590</td>\n",
       "    </tr>\n",
       "    <tr>\n",
       "      <th>2018-01-24</th>\n",
       "      <td>135</td>\n",
       "      <td>0.040663</td>\n",
       "    </tr>\n",
       "    <tr>\n",
       "      <th>2018-01-25</th>\n",
       "      <td>176</td>\n",
       "      <td>0.053012</td>\n",
       "    </tr>\n",
       "    <tr>\n",
       "      <th>2018-01-26</th>\n",
       "      <td>160</td>\n",
       "      <td>0.048193</td>\n",
       "    </tr>\n",
       "    <tr>\n",
       "      <th>2018-01-27</th>\n",
       "      <td>49</td>\n",
       "      <td>0.014759</td>\n",
       "    </tr>\n",
       "    <tr>\n",
       "      <th>2018-01-28</th>\n",
       "      <td>29</td>\n",
       "      <td>0.008735</td>\n",
       "    </tr>\n",
       "    <tr>\n",
       "      <th>2018-01-29</th>\n",
       "      <td>162</td>\n",
       "      <td>0.048795</td>\n",
       "    </tr>\n",
       "    <tr>\n",
       "      <th>2018-01-30</th>\n",
       "      <td>149</td>\n",
       "      <td>0.044880</td>\n",
       "    </tr>\n",
       "    <tr>\n",
       "      <th>2018-01-31</th>\n",
       "      <td>124</td>\n",
       "      <td>0.037349</td>\n",
       "    </tr>\n",
       "    <tr>\n",
       "      <th>2018-02-01</th>\n",
       "      <td>13</td>\n",
       "      <td>0.003916</td>\n",
       "    </tr>\n",
       "  </tbody>\n",
       "</table>\n",
       "</div>"
      ],
      "text/plain": [
       "             数量       百分比\n",
       "2017-12-31    3  0.000904\n",
       "2018-01-02  131  0.039458\n",
       "2018-01-03  155  0.046687\n",
       "2018-01-04  130  0.039157\n",
       "2018-01-05  118  0.035542\n",
       "2018-01-06   16  0.004819\n",
       "2018-01-07    1  0.000301\n",
       "2018-01-08  148  0.044578\n",
       "2018-01-09  134  0.040361\n",
       "2018-01-10  107  0.032229\n",
       "2018-01-11  149  0.044880\n",
       "2018-01-12  154  0.046386\n",
       "2018-01-13   28  0.008434\n",
       "2018-01-14    6  0.001807\n",
       "2018-01-15  159  0.047892\n",
       "2018-01-16  117  0.035241\n",
       "2018-01-17  132  0.039759\n",
       "2018-01-18  162  0.048795\n",
       "2018-01-19  124  0.037349\n",
       "2018-01-20   29  0.008735\n",
       "2018-01-21    7  0.002108\n",
       "2018-01-22  155  0.046687\n",
       "2018-01-23  158  0.047590\n",
       "2018-01-24  135  0.040663\n",
       "2018-01-25  176  0.053012\n",
       "2018-01-26  160  0.048193\n",
       "2018-01-27   49  0.014759\n",
       "2018-01-28   29  0.008735\n",
       "2018-01-29  162  0.048795\n",
       "2018-01-30  149  0.044880\n",
       "2018-01-31  124  0.037349\n",
       "2018-02-01   13  0.003916"
      ]
     },
     "execution_count": 9,
     "metadata": {},
     "output_type": "execute_result"
    }
   ],
   "source": [
    "date_df = count_column(df,u'完成日期').sort_index()\n",
    "date_df"
   ]
  },
  {
   "cell_type": "code",
   "execution_count": 10,
   "metadata": {},
   "outputs": [],
   "source": [
    "def print_date_info(dataframe):\n",
    "    #统计产生报告的天数\n",
    "    print(u'当月出报告的天数为：{}天。'.format(len(dataframe)))\n",
    "    #统计平均每天报告数量\n",
    "    print(u'平均每天产生报告{}份。'.format(int(dataframe[u'数量'].mean())))\n",
    "    #统计产生最多报告的天数\n",
    "    print(u'在日期：{}，产生当月最多报告，共{}份。'.format(str(dataframe[u'数量'].idxmax()),int(dataframe[u'数量'].max())))\n",
    "    #统计产生最少报告的天数\n",
    "    print(u'在日期：{}，产生当月最少报告，共{}份。'.format(str(dataframe[u'数量'].idxmin()),int(dataframe[u'数量'].min())))"
   ]
  },
  {
   "cell_type": "code",
   "execution_count": 11,
   "metadata": {},
   "outputs": [
    {
     "name": "stdout",
     "output_type": "stream",
     "text": [
      "当月出报告的天数为：32天。\n",
      "平均每天产生报告103份。\n",
      "在日期：2018-01-25 00:00:00，产生当月最多报告，共176份。\n",
      "在日期：2018-01-07 00:00:00，产生当月最少报告，共1份。\n"
     ]
    }
   ],
   "source": [
    "print_date_info(date_df)"
   ]
  },
  {
   "cell_type": "markdown",
   "metadata": {},
   "source": [
    "> **`完成日期` vs `报告数量` 图表**"
   ]
  },
  {
   "cell_type": "code",
   "execution_count": 12,
   "metadata": {
    "scrolled": true
   },
   "outputs": [
    {
     "data": {
      "text/plain": [
       "<matplotlib.axes._subplots.AxesSubplot at 0x1fa80ccea20>"
      ]
     },
     "execution_count": 12,
     "metadata": {},
     "output_type": "execute_result"
    },
    {
     "data": {
      "image/png": "[encoded data removed]",
      "text/plain": [
       "<Figure size 432x288 with 1 Axes>"
      ]
     },
     "metadata": {},
     "output_type": "display_data"
    }
   ],
   "source": [
    "date_df.loc[:,u'数量'].plot(kind='line')"
   ]
  },
  {
   "cell_type": "markdown",
   "metadata": {},
   "source": [
    "**说明：  \n",
    "1、工作日期间，每周起始（周一）与每周结束（周五）的时间产生报告较多，其中时间（周二、周三、周四）产生报告较少，见图表每个波峰逞“凹形”；  \n",
    "2、周末时间一般不产生或极少产生报告，见图表规律性波谷；  \n",
    "3、临近月底，报告的产生数量有增加趋势。**"
   ]
  },
  {
   "cell_type": "markdown",
   "metadata": {},
   "source": [
    "> **`检测单位`统计**"
   ]
  },
  {
   "cell_type": "code",
   "execution_count": 13,
   "metadata": {
    "scrolled": false
   },
   "outputs": [
    {
     "data": {
      "text/html": [
       "<div>\n",
       "<style scoped>\n",
       "    .dataframe tbody tr th:only-of-type {\n",
       "        vertical-align: middle;\n",
       "    }\n",
       "\n",
       "    .dataframe tbody tr th {\n",
       "        vertical-align: top;\n",
       "    }\n",
       "\n",
       "    .dataframe thead th {\n",
       "        text-align: right;\n",
       "    }\n",
       "</style>\n",
       "<table border=\"1\" class=\"dataframe\">\n",
       "  <thead>\n",
       "    <tr style=\"text-align: right;\">\n",
       "      <th></th>\n",
       "      <th>数量</th>\n",
       "      <th>百分比</th>\n",
       "    </tr>\n",
       "  </thead>\n",
       "  <tbody>\n",
       "    <tr>\n",
       "      <th>广东穗安科技检测中心有限公司</th>\n",
       "      <td>315</td>\n",
       "      <td>0.094880</td>\n",
       "    </tr>\n",
       "    <tr>\n",
       "      <th>广东华建电气消防安全检测有限公司</th>\n",
       "      <td>241</td>\n",
       "      <td>0.072590</td>\n",
       "    </tr>\n",
       "    <tr>\n",
       "      <th>广东诺安消防技术服务有限公司</th>\n",
       "      <td>238</td>\n",
       "      <td>0.071687</td>\n",
       "    </tr>\n",
       "    <tr>\n",
       "      <th>广东为邦消防检测有限公司</th>\n",
       "      <td>226</td>\n",
       "      <td>0.068072</td>\n",
       "    </tr>\n",
       "    <tr>\n",
       "      <th>广东华标检测中心有限公司</th>\n",
       "      <td>218</td>\n",
       "      <td>0.065663</td>\n",
       "    </tr>\n",
       "    <tr>\n",
       "      <th>广东鸿榆消防检测技术服务有限公司</th>\n",
       "      <td>162</td>\n",
       "      <td>0.048795</td>\n",
       "    </tr>\n",
       "    <tr>\n",
       "      <th>广州市泰昌消防工程有限公司</th>\n",
       "      <td>159</td>\n",
       "      <td>0.047892</td>\n",
       "    </tr>\n",
       "    <tr>\n",
       "      <th>广州远耀技术服务有限公司</th>\n",
       "      <td>149</td>\n",
       "      <td>0.044880</td>\n",
       "    </tr>\n",
       "    <tr>\n",
       "      <th>广东鸿盛消防设施检测维保有限公司</th>\n",
       "      <td>141</td>\n",
       "      <td>0.042470</td>\n",
       "    </tr>\n",
       "    <tr>\n",
       "      <th>广东宏希工程检测有限公司</th>\n",
       "      <td>133</td>\n",
       "      <td>0.040060</td>\n",
       "    </tr>\n",
       "    <tr>\n",
       "      <th>广东御安建筑消防科技有限公司</th>\n",
       "      <td>129</td>\n",
       "      <td>0.038855</td>\n",
       "    </tr>\n",
       "    <tr>\n",
       "      <th>广州新恒基消防工程有限公司</th>\n",
       "      <td>118</td>\n",
       "      <td>0.035542</td>\n",
       "    </tr>\n",
       "    <tr>\n",
       "      <th>广东政安电气消防安全检测有限公司</th>\n",
       "      <td>108</td>\n",
       "      <td>0.032530</td>\n",
       "    </tr>\n",
       "    <tr>\n",
       "      <th>广东和星消防设施检测中心有限公司</th>\n",
       "      <td>100</td>\n",
       "      <td>0.030120</td>\n",
       "    </tr>\n",
       "    <tr>\n",
       "      <th>广东富天消防设备检测有限公司</th>\n",
       "      <td>88</td>\n",
       "      <td>0.026506</td>\n",
       "    </tr>\n",
       "    <tr>\n",
       "      <th>广东建筑消防设施检测中心有限公司</th>\n",
       "      <td>82</td>\n",
       "      <td>0.024699</td>\n",
       "    </tr>\n",
       "    <tr>\n",
       "      <th>广东深华消防设备工程股份有限公司</th>\n",
       "      <td>82</td>\n",
       "      <td>0.024699</td>\n",
       "    </tr>\n",
       "    <tr>\n",
       "      <th>广东和盛建设有限公司</th>\n",
       "      <td>79</td>\n",
       "      <td>0.023795</td>\n",
       "    </tr>\n",
       "    <tr>\n",
       "      <th>广东粤通消防维保检测有限公司</th>\n",
       "      <td>76</td>\n",
       "      <td>0.022892</td>\n",
       "    </tr>\n",
       "    <tr>\n",
       "      <th>广东利盾电气消防检测有限公司</th>\n",
       "      <td>74</td>\n",
       "      <td>0.022289</td>\n",
       "    </tr>\n",
       "    <tr>\n",
       "      <th>广州亿保消防安全检测有限公司</th>\n",
       "      <td>63</td>\n",
       "      <td>0.018976</td>\n",
       "    </tr>\n",
       "    <tr>\n",
       "      <th>广东安鑫消防检测有限公司</th>\n",
       "      <td>60</td>\n",
       "      <td>0.018072</td>\n",
       "    </tr>\n",
       "    <tr>\n",
       "      <th>广东中建建筑消防设施检测有限公司</th>\n",
       "      <td>53</td>\n",
       "      <td>0.015964</td>\n",
       "    </tr>\n",
       "    <tr>\n",
       "      <th>深圳汇安消防设施工程有限公司</th>\n",
       "      <td>51</td>\n",
       "      <td>0.015361</td>\n",
       "    </tr>\n",
       "    <tr>\n",
       "      <th>佛山市中安电力消防科技工程有限公司</th>\n",
       "      <td>37</td>\n",
       "      <td>0.011145</td>\n",
       "    </tr>\n",
       "    <tr>\n",
       "      <th>广东珠江燃气集团股份有限公司</th>\n",
       "      <td>28</td>\n",
       "      <td>0.008434</td>\n",
       "    </tr>\n",
       "    <tr>\n",
       "      <th>广州新利堡消防工程企业有限公司</th>\n",
       "      <td>26</td>\n",
       "      <td>0.007831</td>\n",
       "    </tr>\n",
       "    <tr>\n",
       "      <th>广东华安消防技术服务有限公司</th>\n",
       "      <td>24</td>\n",
       "      <td>0.007229</td>\n",
       "    </tr>\n",
       "    <tr>\n",
       "      <th>广东广消消防实业有限公司</th>\n",
       "      <td>23</td>\n",
       "      <td>0.006928</td>\n",
       "    </tr>\n",
       "    <tr>\n",
       "      <th>广东中业消防技术有限公司</th>\n",
       "      <td>20</td>\n",
       "      <td>0.006024</td>\n",
       "    </tr>\n",
       "    <tr>\n",
       "      <th>广东为众消防科技股份有限公司</th>\n",
       "      <td>6</td>\n",
       "      <td>0.001807</td>\n",
       "    </tr>\n",
       "    <tr>\n",
       "      <th>广东正标工程检测有限公司</th>\n",
       "      <td>6</td>\n",
       "      <td>0.001807</td>\n",
       "    </tr>\n",
       "    <tr>\n",
       "      <th>广东恒迅建设集团有限公司</th>\n",
       "      <td>5</td>\n",
       "      <td>0.001506</td>\n",
       "    </tr>\n",
       "  </tbody>\n",
       "</table>\n",
       "</div>"
      ],
      "text/plain": [
       "                    数量       百分比\n",
       "广东穗安科技检测中心有限公司     315  0.094880\n",
       "广东华建电气消防安全检测有限公司   241  0.072590\n",
       "广东诺安消防技术服务有限公司     238  0.071687\n",
       "广东为邦消防检测有限公司       226  0.068072\n",
       "广东华标检测中心有限公司       218  0.065663\n",
       "广东鸿榆消防检测技术服务有限公司   162  0.048795\n",
       "广州市泰昌消防工程有限公司      159  0.047892\n",
       "广州远耀技术服务有限公司       149  0.044880\n",
       "广东鸿盛消防设施检测维保有限公司   141  0.042470\n",
       "广东宏希工程检测有限公司       133  0.040060\n",
       "广东御安建筑消防科技有限公司     129  0.038855\n",
       "广州新恒基消防工程有限公司      118  0.035542\n",
       "广东政安电气消防安全检测有限公司   108  0.032530\n",
       "广东和星消防设施检测中心有限公司   100  0.030120\n",
       "广东富天消防设备检测有限公司      88  0.026506\n",
       "广东建筑消防设施检测中心有限公司    82  0.024699\n",
       "广东深华消防设备工程股份有限公司    82  0.024699\n",
       "广东和盛建设有限公司          79  0.023795\n",
       "广东粤通消防维保检测有限公司      76  0.022892\n",
       "广东利盾电气消防检测有限公司      74  0.022289\n",
       "广州亿保消防安全检测有限公司      63  0.018976\n",
       "广东安鑫消防检测有限公司        60  0.018072\n",
       "广东中建建筑消防设施检测有限公司    53  0.015964\n",
       "深圳汇安消防设施工程有限公司      51  0.015361\n",
       "佛山市中安电力消防科技工程有限公司   37  0.011145\n",
       "广东珠江燃气集团股份有限公司      28  0.008434\n",
       "广州新利堡消防工程企业有限公司     26  0.007831\n",
       "广东华安消防技术服务有限公司      24  0.007229\n",
       "广东广消消防实业有限公司        23  0.006928\n",
       "广东中业消防技术有限公司        20  0.006024\n",
       "广东为众消防科技股份有限公司       6  0.001807\n",
       "广东正标工程检测有限公司         6  0.001807\n",
       "广东恒迅建设集团有限公司         5  0.001506"
      ]
     },
     "execution_count": 13,
     "metadata": {},
     "output_type": "execute_result"
    }
   ],
   "source": [
    "dc_df = count_column(df,u'检测单位') #dc for detection company\n",
    "dc_df"
   ]
  },
  {
   "cell_type": "code",
   "execution_count": 14,
   "metadata": {
    "scrolled": true
   },
   "outputs": [
    {
     "name": "stdout",
     "output_type": "stream",
     "text": [
      "总计共33家单位在本月内出具了检测报告。\n"
     ]
    }
   ],
   "source": [
    "print(u'总计共{}家单位在本月内出具了检测报告。'.format(len(dc_df)))"
   ]
  },
  {
   "cell_type": "markdown",
   "metadata": {},
   "source": [
    "**报告数量排名前十的单位：**"
   ]
  },
  {
   "cell_type": "code",
   "execution_count": 15,
   "metadata": {
    "scrolled": false
   },
   "outputs": [
    {
     "data": {
      "text/html": [
       "<div>\n",
       "<style scoped>\n",
       "    .dataframe tbody tr th:only-of-type {\n",
       "        vertical-align: middle;\n",
       "    }\n",
       "\n",
       "    .dataframe tbody tr th {\n",
       "        vertical-align: top;\n",
       "    }\n",
       "\n",
       "    .dataframe thead th {\n",
       "        text-align: right;\n",
       "    }\n",
       "</style>\n",
       "<table border=\"1\" class=\"dataframe\">\n",
       "  <thead>\n",
       "    <tr style=\"text-align: right;\">\n",
       "      <th></th>\n",
       "      <th>数量</th>\n",
       "      <th>百分比</th>\n",
       "    </tr>\n",
       "  </thead>\n",
       "  <tbody>\n",
       "    <tr>\n",
       "      <th>广东穗安科技检测中心有限公司</th>\n",
       "      <td>315</td>\n",
       "      <td>0.094880</td>\n",
       "    </tr>\n",
       "    <tr>\n",
       "      <th>广东华建电气消防安全检测有限公司</th>\n",
       "      <td>241</td>\n",
       "      <td>0.072590</td>\n",
       "    </tr>\n",
       "    <tr>\n",
       "      <th>广东诺安消防技术服务有限公司</th>\n",
       "      <td>238</td>\n",
       "      <td>0.071687</td>\n",
       "    </tr>\n",
       "    <tr>\n",
       "      <th>广东为邦消防检测有限公司</th>\n",
       "      <td>226</td>\n",
       "      <td>0.068072</td>\n",
       "    </tr>\n",
       "    <tr>\n",
       "      <th>广东华标检测中心有限公司</th>\n",
       "      <td>218</td>\n",
       "      <td>0.065663</td>\n",
       "    </tr>\n",
       "    <tr>\n",
       "      <th>广东鸿榆消防检测技术服务有限公司</th>\n",
       "      <td>162</td>\n",
       "      <td>0.048795</td>\n",
       "    </tr>\n",
       "    <tr>\n",
       "      <th>广州市泰昌消防工程有限公司</th>\n",
       "      <td>159</td>\n",
       "      <td>0.047892</td>\n",
       "    </tr>\n",
       "    <tr>\n",
       "      <th>广州远耀技术服务有限公司</th>\n",
       "      <td>149</td>\n",
       "      <td>0.044880</td>\n",
       "    </tr>\n",
       "    <tr>\n",
       "      <th>广东鸿盛消防设施检测维保有限公司</th>\n",
       "      <td>141</td>\n",
       "      <td>0.042470</td>\n",
       "    </tr>\n",
       "    <tr>\n",
       "      <th>广东宏希工程检测有限公司</th>\n",
       "      <td>133</td>\n",
       "      <td>0.040060</td>\n",
       "    </tr>\n",
       "  </tbody>\n",
       "</table>\n",
       "</div>"
      ],
      "text/plain": [
       "                   数量       百分比\n",
       "广东穗安科技检测中心有限公司    315  0.094880\n",
       "广东华建电气消防安全检测有限公司  241  0.072590\n",
       "广东诺安消防技术服务有限公司    238  0.071687\n",
       "广东为邦消防检测有限公司      226  0.068072\n",
       "广东华标检测中心有限公司      218  0.065663\n",
       "广东鸿榆消防检测技术服务有限公司  162  0.048795\n",
       "广州市泰昌消防工程有限公司     159  0.047892\n",
       "广州远耀技术服务有限公司      149  0.044880\n",
       "广东鸿盛消防设施检测维保有限公司  141  0.042470\n",
       "广东宏希工程检测有限公司      133  0.040060"
      ]
     },
     "execution_count": 15,
     "metadata": {},
     "output_type": "execute_result"
    }
   ],
   "source": [
    "dc_df.head(10)"
   ]
  },
  {
   "cell_type": "markdown",
   "metadata": {},
   "source": [
    "**报告数量排名倒数前十的单位：**"
   ]
  },
  {
   "cell_type": "code",
   "execution_count": 16,
   "metadata": {
    "scrolled": false
   },
   "outputs": [
    {
     "data": {
      "text/html": [
       "<div>\n",
       "<style scoped>\n",
       "    .dataframe tbody tr th:only-of-type {\n",
       "        vertical-align: middle;\n",
       "    }\n",
       "\n",
       "    .dataframe tbody tr th {\n",
       "        vertical-align: top;\n",
       "    }\n",
       "\n",
       "    .dataframe thead th {\n",
       "        text-align: right;\n",
       "    }\n",
       "</style>\n",
       "<table border=\"1\" class=\"dataframe\">\n",
       "  <thead>\n",
       "    <tr style=\"text-align: right;\">\n",
       "      <th></th>\n",
       "      <th>数量</th>\n",
       "      <th>百分比</th>\n",
       "    </tr>\n",
       "  </thead>\n",
       "  <tbody>\n",
       "    <tr>\n",
       "      <th>深圳汇安消防设施工程有限公司</th>\n",
       "      <td>51</td>\n",
       "      <td>0.015361</td>\n",
       "    </tr>\n",
       "    <tr>\n",
       "      <th>佛山市中安电力消防科技工程有限公司</th>\n",
       "      <td>37</td>\n",
       "      <td>0.011145</td>\n",
       "    </tr>\n",
       "    <tr>\n",
       "      <th>广东珠江燃气集团股份有限公司</th>\n",
       "      <td>28</td>\n",
       "      <td>0.008434</td>\n",
       "    </tr>\n",
       "    <tr>\n",
       "      <th>广州新利堡消防工程企业有限公司</th>\n",
       "      <td>26</td>\n",
       "      <td>0.007831</td>\n",
       "    </tr>\n",
       "    <tr>\n",
       "      <th>广东华安消防技术服务有限公司</th>\n",
       "      <td>24</td>\n",
       "      <td>0.007229</td>\n",
       "    </tr>\n",
       "    <tr>\n",
       "      <th>广东广消消防实业有限公司</th>\n",
       "      <td>23</td>\n",
       "      <td>0.006928</td>\n",
       "    </tr>\n",
       "    <tr>\n",
       "      <th>广东中业消防技术有限公司</th>\n",
       "      <td>20</td>\n",
       "      <td>0.006024</td>\n",
       "    </tr>\n",
       "    <tr>\n",
       "      <th>广东为众消防科技股份有限公司</th>\n",
       "      <td>6</td>\n",
       "      <td>0.001807</td>\n",
       "    </tr>\n",
       "    <tr>\n",
       "      <th>广东正标工程检测有限公司</th>\n",
       "      <td>6</td>\n",
       "      <td>0.001807</td>\n",
       "    </tr>\n",
       "    <tr>\n",
       "      <th>广东恒迅建设集团有限公司</th>\n",
       "      <td>5</td>\n",
       "      <td>0.001506</td>\n",
       "    </tr>\n",
       "  </tbody>\n",
       "</table>\n",
       "</div>"
      ],
      "text/plain": [
       "                   数量       百分比\n",
       "深圳汇安消防设施工程有限公司     51  0.015361\n",
       "佛山市中安电力消防科技工程有限公司  37  0.011145\n",
       "广东珠江燃气集团股份有限公司     28  0.008434\n",
       "广州新利堡消防工程企业有限公司    26  0.007831\n",
       "广东华安消防技术服务有限公司     24  0.007229\n",
       "广东广消消防实业有限公司       23  0.006928\n",
       "广东中业消防技术有限公司       20  0.006024\n",
       "广东为众消防科技股份有限公司      6  0.001807\n",
       "广东正标工程检测有限公司        6  0.001807\n",
       "广东恒迅建设集团有限公司        5  0.001506"
      ]
     },
     "execution_count": 16,
     "metadata": {},
     "output_type": "execute_result"
    }
   ],
   "source": [
    "dc_df.tail(10)"
   ]
  },
  {
   "cell_type": "markdown",
   "metadata": {},
   "source": [
    "图表"
   ]
  },
  {
   "cell_type": "code",
   "execution_count": 17,
   "metadata": {
    "scrolled": false
   },
   "outputs": [
    {
     "data": {
      "text/plain": [
       "<matplotlib.axes._subplots.AxesSubplot at 0x1fa80e10278>"
      ]
     },
     "execution_count": 17,
     "metadata": {},
     "output_type": "execute_result"
    },
    {
     "data": {
      "image/png": "[encoded data removed]",
      "text/plain": [
       "<Figure size 432x288 with 1 Axes>"
      ]
     },
     "metadata": {},
     "output_type": "display_data"
    }
   ],
   "source": [
    "dc_df.loc[:,u'数量'].plot(kind='bar')"
   ]
  },
  {
   "cell_type": "markdown",
   "metadata": {},
   "source": [
    "> **`城市`统计**"
   ]
  },
  {
   "cell_type": "code",
   "execution_count": 18,
   "metadata": {
    "scrolled": false
   },
   "outputs": [
    {
     "data": {
      "text/html": [
       "<div>\n",
       "<style scoped>\n",
       "    .dataframe tbody tr th:only-of-type {\n",
       "        vertical-align: middle;\n",
       "    }\n",
       "\n",
       "    .dataframe tbody tr th {\n",
       "        vertical-align: top;\n",
       "    }\n",
       "\n",
       "    .dataframe thead th {\n",
       "        text-align: right;\n",
       "    }\n",
       "</style>\n",
       "<table border=\"1\" class=\"dataframe\">\n",
       "  <thead>\n",
       "    <tr style=\"text-align: right;\">\n",
       "      <th></th>\n",
       "      <th>数量</th>\n",
       "      <th>百分比</th>\n",
       "    </tr>\n",
       "  </thead>\n",
       "  <tbody>\n",
       "    <tr>\n",
       "      <th>广州</th>\n",
       "      <td>654</td>\n",
       "      <td>0.196988</td>\n",
       "    </tr>\n",
       "    <tr>\n",
       "      <th>NA</th>\n",
       "      <td>559</td>\n",
       "      <td>0.168373</td>\n",
       "    </tr>\n",
       "    <tr>\n",
       "      <th>佛山</th>\n",
       "      <td>476</td>\n",
       "      <td>0.143373</td>\n",
       "    </tr>\n",
       "    <tr>\n",
       "      <th>东莞</th>\n",
       "      <td>474</td>\n",
       "      <td>0.142771</td>\n",
       "    </tr>\n",
       "    <tr>\n",
       "      <th>惠州</th>\n",
       "      <td>209</td>\n",
       "      <td>0.062952</td>\n",
       "    </tr>\n",
       "    <tr>\n",
       "      <th>中山</th>\n",
       "      <td>203</td>\n",
       "      <td>0.061145</td>\n",
       "    </tr>\n",
       "    <tr>\n",
       "      <th>珠海</th>\n",
       "      <td>128</td>\n",
       "      <td>0.038554</td>\n",
       "    </tr>\n",
       "    <tr>\n",
       "      <th>江门</th>\n",
       "      <td>76</td>\n",
       "      <td>0.022892</td>\n",
       "    </tr>\n",
       "    <tr>\n",
       "      <th>清远</th>\n",
       "      <td>69</td>\n",
       "      <td>0.020783</td>\n",
       "    </tr>\n",
       "    <tr>\n",
       "      <th>梅州</th>\n",
       "      <td>64</td>\n",
       "      <td>0.019277</td>\n",
       "    </tr>\n",
       "    <tr>\n",
       "      <th>肇庆</th>\n",
       "      <td>61</td>\n",
       "      <td>0.018373</td>\n",
       "    </tr>\n",
       "    <tr>\n",
       "      <th>河源</th>\n",
       "      <td>55</td>\n",
       "      <td>0.016566</td>\n",
       "    </tr>\n",
       "    <tr>\n",
       "      <th>深圳</th>\n",
       "      <td>54</td>\n",
       "      <td>0.016265</td>\n",
       "    </tr>\n",
       "    <tr>\n",
       "      <th>韶关</th>\n",
       "      <td>43</td>\n",
       "      <td>0.012952</td>\n",
       "    </tr>\n",
       "    <tr>\n",
       "      <th>汕头</th>\n",
       "      <td>37</td>\n",
       "      <td>0.011145</td>\n",
       "    </tr>\n",
       "    <tr>\n",
       "      <th>茂名</th>\n",
       "      <td>33</td>\n",
       "      <td>0.009940</td>\n",
       "    </tr>\n",
       "    <tr>\n",
       "      <th>阳江</th>\n",
       "      <td>32</td>\n",
       "      <td>0.009639</td>\n",
       "    </tr>\n",
       "    <tr>\n",
       "      <th>湛江</th>\n",
       "      <td>30</td>\n",
       "      <td>0.009036</td>\n",
       "    </tr>\n",
       "    <tr>\n",
       "      <th>云浮</th>\n",
       "      <td>25</td>\n",
       "      <td>0.007530</td>\n",
       "    </tr>\n",
       "    <tr>\n",
       "      <th>揭阳</th>\n",
       "      <td>16</td>\n",
       "      <td>0.004819</td>\n",
       "    </tr>\n",
       "    <tr>\n",
       "      <th>汕尾</th>\n",
       "      <td>11</td>\n",
       "      <td>0.003313</td>\n",
       "    </tr>\n",
       "    <tr>\n",
       "      <th>潮州</th>\n",
       "      <td>11</td>\n",
       "      <td>0.003313</td>\n",
       "    </tr>\n",
       "  </tbody>\n",
       "</table>\n",
       "</div>"
      ],
      "text/plain": [
       "     数量       百分比\n",
       "广州  654  0.196988\n",
       "NA  559  0.168373\n",
       "佛山  476  0.143373\n",
       "东莞  474  0.142771\n",
       "惠州  209  0.062952\n",
       "中山  203  0.061145\n",
       "珠海  128  0.038554\n",
       "江门   76  0.022892\n",
       "清远   69  0.020783\n",
       "梅州   64  0.019277\n",
       "肇庆   61  0.018373\n",
       "河源   55  0.016566\n",
       "深圳   54  0.016265\n",
       "韶关   43  0.012952\n",
       "汕头   37  0.011145\n",
       "茂名   33  0.009940\n",
       "阳江   32  0.009639\n",
       "湛江   30  0.009036\n",
       "云浮   25  0.007530\n",
       "揭阳   16  0.004819\n",
       "汕尾   11  0.003313\n",
       "潮州   11  0.003313"
      ]
     },
     "execution_count": 18,
     "metadata": {},
     "output_type": "execute_result"
    }
   ],
   "source": [
    "city_df = count_column(df,u'城市')\n",
    "city_df"
   ]
  },
  {
   "cell_type": "markdown",
   "metadata": {},
   "source": [
    "***说明：NA表示城市未能确定的数据。***"
   ]
  },
  {
   "cell_type": "code",
   "execution_count": 19,
   "metadata": {
    "scrolled": true
   },
   "outputs": [
    {
     "data": {
      "text/plain": [
       "<matplotlib.axes._subplots.AxesSubplot at 0x1fa810a9198>"
      ]
     },
     "execution_count": 19,
     "metadata": {},
     "output_type": "execute_result"
    },
    {
     "data": {
      "image/png": "[encoded data removed]",
      "text/plain": [
       "<Figure size 432x288 with 1 Axes>"
      ]
     },
     "metadata": {},
     "output_type": "display_data"
    }
   ],
   "source": [
    "city_df.loc[:,u'数量'].plot(kind='bar')"
   ]
  },
  {
   "cell_type": "code",
   "execution_count": 20,
   "metadata": {
    "scrolled": false
   },
   "outputs": [
    {
     "data": {
      "text/plain": [
       "<matplotlib.axes._subplots.AxesSubplot at 0x1fa811e0a90>"
      ]
     },
     "execution_count": 20,
     "metadata": {},
     "output_type": "execute_result"
    },
    {
     "data": {
      "image/png": "[encoded data removed]",
      "text/plain": [
       "<Figure size 432x432 with 1 Axes>"
      ]
     },
     "metadata": {},
     "output_type": "display_data"
    }
   ],
   "source": [
    "city_df.loc[:,u'数量'].plot(kind='pie',autopct='%.2f', figsize=(6, 6))"
   ]
  },
  {
   "cell_type": "markdown",
   "metadata": {},
   "source": [
    "**说明：广州、东莞、佛山三个地方的报告产生数量明显多于其他地区。**"
   ]
  },
  {
   "cell_type": "markdown",
   "metadata": {},
   "source": [
    "### 2、个体统计"
   ]
  },
  {
   "cell_type": "markdown",
   "metadata": {},
   "source": [
    "### 广东政安电气消防安全检测有限公司"
   ]
  },
  {
   "cell_type": "code",
   "execution_count": 21,
   "metadata": {
    "scrolled": false
   },
   "outputs": [],
   "source": [
    "#单个检测公司数据统计\n",
    "ZhengAn_df = df.loc[df[u'检测单位'] == '广东穗安科技检测中心有限公司']\n",
    "#ZhengAn_df"
   ]
  },
  {
   "cell_type": "markdown",
   "metadata": {},
   "source": [
    "> **`完成日期`统计**"
   ]
  },
  {
   "cell_type": "code",
   "execution_count": 22,
   "metadata": {},
   "outputs": [
    {
     "data": {
      "text/html": [
       "<div>\n",
       "<style scoped>\n",
       "    .dataframe tbody tr th:only-of-type {\n",
       "        vertical-align: middle;\n",
       "    }\n",
       "\n",
       "    .dataframe tbody tr th {\n",
       "        vertical-align: top;\n",
       "    }\n",
       "\n",
       "    .dataframe thead th {\n",
       "        text-align: right;\n",
       "    }\n",
       "</style>\n",
       "<table border=\"1\" class=\"dataframe\">\n",
       "  <thead>\n",
       "    <tr style=\"text-align: right;\">\n",
       "      <th></th>\n",
       "      <th>数量</th>\n",
       "      <th>百分比</th>\n",
       "    </tr>\n",
       "  </thead>\n",
       "  <tbody>\n",
       "    <tr>\n",
       "      <th>2018-01-02</th>\n",
       "      <td>22</td>\n",
       "      <td>0.069841</td>\n",
       "    </tr>\n",
       "    <tr>\n",
       "      <th>2018-01-03</th>\n",
       "      <td>20</td>\n",
       "      <td>0.063492</td>\n",
       "    </tr>\n",
       "    <tr>\n",
       "      <th>2018-01-04</th>\n",
       "      <td>13</td>\n",
       "      <td>0.041270</td>\n",
       "    </tr>\n",
       "    <tr>\n",
       "      <th>2018-01-05</th>\n",
       "      <td>18</td>\n",
       "      <td>0.057143</td>\n",
       "    </tr>\n",
       "    <tr>\n",
       "      <th>2018-01-08</th>\n",
       "      <td>8</td>\n",
       "      <td>0.025397</td>\n",
       "    </tr>\n",
       "    <tr>\n",
       "      <th>2018-01-09</th>\n",
       "      <td>6</td>\n",
       "      <td>0.019048</td>\n",
       "    </tr>\n",
       "    <tr>\n",
       "      <th>2018-01-10</th>\n",
       "      <td>1</td>\n",
       "      <td>0.003175</td>\n",
       "    </tr>\n",
       "    <tr>\n",
       "      <th>2018-01-11</th>\n",
       "      <td>5</td>\n",
       "      <td>0.015873</td>\n",
       "    </tr>\n",
       "    <tr>\n",
       "      <th>2018-01-12</th>\n",
       "      <td>13</td>\n",
       "      <td>0.041270</td>\n",
       "    </tr>\n",
       "    <tr>\n",
       "      <th>2018-01-13</th>\n",
       "      <td>6</td>\n",
       "      <td>0.019048</td>\n",
       "    </tr>\n",
       "    <tr>\n",
       "      <th>2018-01-15</th>\n",
       "      <td>27</td>\n",
       "      <td>0.085714</td>\n",
       "    </tr>\n",
       "    <tr>\n",
       "      <th>2018-01-16</th>\n",
       "      <td>12</td>\n",
       "      <td>0.038095</td>\n",
       "    </tr>\n",
       "    <tr>\n",
       "      <th>2018-01-17</th>\n",
       "      <td>21</td>\n",
       "      <td>0.066667</td>\n",
       "    </tr>\n",
       "    <tr>\n",
       "      <th>2018-01-18</th>\n",
       "      <td>8</td>\n",
       "      <td>0.025397</td>\n",
       "    </tr>\n",
       "    <tr>\n",
       "      <th>2018-01-19</th>\n",
       "      <td>12</td>\n",
       "      <td>0.038095</td>\n",
       "    </tr>\n",
       "    <tr>\n",
       "      <th>2018-01-20</th>\n",
       "      <td>6</td>\n",
       "      <td>0.019048</td>\n",
       "    </tr>\n",
       "    <tr>\n",
       "      <th>2018-01-22</th>\n",
       "      <td>12</td>\n",
       "      <td>0.038095</td>\n",
       "    </tr>\n",
       "    <tr>\n",
       "      <th>2018-01-23</th>\n",
       "      <td>17</td>\n",
       "      <td>0.053968</td>\n",
       "    </tr>\n",
       "    <tr>\n",
       "      <th>2018-01-24</th>\n",
       "      <td>12</td>\n",
       "      <td>0.038095</td>\n",
       "    </tr>\n",
       "    <tr>\n",
       "      <th>2018-01-25</th>\n",
       "      <td>20</td>\n",
       "      <td>0.063492</td>\n",
       "    </tr>\n",
       "    <tr>\n",
       "      <th>2018-01-26</th>\n",
       "      <td>11</td>\n",
       "      <td>0.034921</td>\n",
       "    </tr>\n",
       "    <tr>\n",
       "      <th>2018-01-27</th>\n",
       "      <td>4</td>\n",
       "      <td>0.012698</td>\n",
       "    </tr>\n",
       "    <tr>\n",
       "      <th>2018-01-29</th>\n",
       "      <td>14</td>\n",
       "      <td>0.044444</td>\n",
       "    </tr>\n",
       "    <tr>\n",
       "      <th>2018-01-30</th>\n",
       "      <td>8</td>\n",
       "      <td>0.025397</td>\n",
       "    </tr>\n",
       "    <tr>\n",
       "      <th>2018-01-31</th>\n",
       "      <td>19</td>\n",
       "      <td>0.060317</td>\n",
       "    </tr>\n",
       "  </tbody>\n",
       "</table>\n",
       "</div>"
      ],
      "text/plain": [
       "            数量       百分比\n",
       "2018-01-02  22  0.069841\n",
       "2018-01-03  20  0.063492\n",
       "2018-01-04  13  0.041270\n",
       "2018-01-05  18  0.057143\n",
       "2018-01-08   8  0.025397\n",
       "2018-01-09   6  0.019048\n",
       "2018-01-10   1  0.003175\n",
       "2018-01-11   5  0.015873\n",
       "2018-01-12  13  0.041270\n",
       "2018-01-13   6  0.019048\n",
       "2018-01-15  27  0.085714\n",
       "2018-01-16  12  0.038095\n",
       "2018-01-17  21  0.066667\n",
       "2018-01-18   8  0.025397\n",
       "2018-01-19  12  0.038095\n",
       "2018-01-20   6  0.019048\n",
       "2018-01-22  12  0.038095\n",
       "2018-01-23  17  0.053968\n",
       "2018-01-24  12  0.038095\n",
       "2018-01-25  20  0.063492\n",
       "2018-01-26  11  0.034921\n",
       "2018-01-27   4  0.012698\n",
       "2018-01-29  14  0.044444\n",
       "2018-01-30   8  0.025397\n",
       "2018-01-31  19  0.060317"
      ]
     },
     "execution_count": 22,
     "metadata": {},
     "output_type": "execute_result"
    }
   ],
   "source": [
    "ZhengAn_date_df = count_column(ZhengAn_df,u'完成日期').sort_index()\n",
    "ZhengAn_date_df"
   ]
  },
  {
   "cell_type": "code",
   "execution_count": 23,
   "metadata": {
    "scrolled": false
   },
   "outputs": [
    {
     "name": "stdout",
     "output_type": "stream",
     "text": [
      "当月出报告的天数为：25天。\n",
      "平均每天产生报告12份。\n",
      "在日期：2018-01-15 00:00:00，产生当月最多报告，共27份。\n",
      "在日期：2018-01-10 00:00:00，产生当月最少报告，共1份。\n"
     ]
    }
   ],
   "source": [
    "print_date_info(ZhengAn_date_df)"
   ]
  },
  {
   "cell_type": "code",
   "execution_count": 24,
   "metadata": {
    "scrolled": false
   },
   "outputs": [
    {
     "data": {
      "text/plain": [
       "<matplotlib.axes._subplots.AxesSubplot at 0x1fa80e10898>"
      ]
     },
     "execution_count": 24,
     "metadata": {},
     "output_type": "execute_result"
    },
    {
     "data": {
      "image/png": "[encoded data removed]",
      "text/plain": [
       "<Figure size 432x288 with 1 Axes>"
      ]
     },
     "metadata": {},
     "output_type": "display_data"
    }
   ],
   "source": [
    "ZhengAn_date_df.loc[:,u'数量'].plot(kind='line')"
   ]
  },
  {
   "cell_type": "code",
   "execution_count": 25,
   "metadata": {},
   "outputs": [
    {
     "data": {
      "text/plain": [
       "<matplotlib.axes._subplots.AxesSubplot at 0x1fa812db438>"
      ]
     },
     "execution_count": 25,
     "metadata": {},
     "output_type": "execute_result"
    },
    {
     "data": {
      "image/png": "[encoded data removed]",
      "text/plain": [
       "<Figure size 432x288 with 1 Axes>"
      ]
     },
     "metadata": {},
     "output_type": "display_data"
    }
   ],
   "source": [
    "total_df = date_df.rename(index=str, columns={\"数量\": \"总数\"})\n",
    "solo_df = ZhengAn_date_df.rename(index=str, columns={\"数量\": \"政安\"})\n",
    "pd.concat([total_df,solo_df],axis=1,sort=True).iloc[:,[0,2]].plot(kind='line')"
   ]
  },
  {
   "cell_type": "markdown",
   "metadata": {},
   "source": [
    "**说明：5月内政安每日产生报告数与总体每日产生报告数之间的对比。**"
   ]
  },
  {
   "cell_type": "markdown",
   "metadata": {},
   "source": [
    "> **`城市`统计**"
   ]
  },
  {
   "cell_type": "code",
   "execution_count": 26,
   "metadata": {
    "scrolled": false
   },
   "outputs": [
    {
     "data": {
      "text/html": [
       "<div>\n",
       "<style scoped>\n",
       "    .dataframe tbody tr th:only-of-type {\n",
       "        vertical-align: middle;\n",
       "    }\n",
       "\n",
       "    .dataframe tbody tr th {\n",
       "        vertical-align: top;\n",
       "    }\n",
       "\n",
       "    .dataframe thead th {\n",
       "        text-align: right;\n",
       "    }\n",
       "</style>\n",
       "<table border=\"1\" class=\"dataframe\">\n",
       "  <thead>\n",
       "    <tr style=\"text-align: right;\">\n",
       "      <th></th>\n",
       "      <th>数量</th>\n",
       "      <th>百分比</th>\n",
       "    </tr>\n",
       "  </thead>\n",
       "  <tbody>\n",
       "    <tr>\n",
       "      <th>东莞</th>\n",
       "      <td>108</td>\n",
       "      <td>0.342857</td>\n",
       "    </tr>\n",
       "    <tr>\n",
       "      <th>佛山</th>\n",
       "      <td>84</td>\n",
       "      <td>0.266667</td>\n",
       "    </tr>\n",
       "    <tr>\n",
       "      <th>广州</th>\n",
       "      <td>66</td>\n",
       "      <td>0.209524</td>\n",
       "    </tr>\n",
       "    <tr>\n",
       "      <th>NA</th>\n",
       "      <td>17</td>\n",
       "      <td>0.053968</td>\n",
       "    </tr>\n",
       "    <tr>\n",
       "      <th>惠州</th>\n",
       "      <td>11</td>\n",
       "      <td>0.034921</td>\n",
       "    </tr>\n",
       "    <tr>\n",
       "      <th>汕头</th>\n",
       "      <td>11</td>\n",
       "      <td>0.034921</td>\n",
       "    </tr>\n",
       "    <tr>\n",
       "      <th>肇庆</th>\n",
       "      <td>6</td>\n",
       "      <td>0.019048</td>\n",
       "    </tr>\n",
       "    <tr>\n",
       "      <th>中山</th>\n",
       "      <td>5</td>\n",
       "      <td>0.015873</td>\n",
       "    </tr>\n",
       "    <tr>\n",
       "      <th>湛江</th>\n",
       "      <td>3</td>\n",
       "      <td>0.009524</td>\n",
       "    </tr>\n",
       "    <tr>\n",
       "      <th>深圳</th>\n",
       "      <td>2</td>\n",
       "      <td>0.006349</td>\n",
       "    </tr>\n",
       "    <tr>\n",
       "      <th>茂名</th>\n",
       "      <td>1</td>\n",
       "      <td>0.003175</td>\n",
       "    </tr>\n",
       "    <tr>\n",
       "      <th>清远</th>\n",
       "      <td>1</td>\n",
       "      <td>0.003175</td>\n",
       "    </tr>\n",
       "  </tbody>\n",
       "</table>\n",
       "</div>"
      ],
      "text/plain": [
       "     数量       百分比\n",
       "东莞  108  0.342857\n",
       "佛山   84  0.266667\n",
       "广州   66  0.209524\n",
       "NA   17  0.053968\n",
       "惠州   11  0.034921\n",
       "汕头   11  0.034921\n",
       "肇庆    6  0.019048\n",
       "中山    5  0.015873\n",
       "湛江    3  0.009524\n",
       "深圳    2  0.006349\n",
       "茂名    1  0.003175\n",
       "清远    1  0.003175"
      ]
     },
     "execution_count": 26,
     "metadata": {},
     "output_type": "execute_result"
    }
   ],
   "source": [
    "ZhengAn_city_df = count_column(ZhengAn_df,u'城市')\n",
    "ZhengAn_city_df"
   ]
  },
  {
   "cell_type": "markdown",
   "metadata": {},
   "source": [
    "**说明：项目集中在广州、东莞、中山三个地区，其中广州的数量最多。**"
   ]
  },
  {
   "cell_type": "code",
   "execution_count": 27,
   "metadata": {
    "scrolled": false
   },
   "outputs": [
    {
     "data": {
      "text/plain": [
       "<matplotlib.axes._subplots.AxesSubplot at 0x1fa81356ac8>"
      ]
     },
     "execution_count": 27,
     "metadata": {},
     "output_type": "execute_result"
    },
    {
     "data": {
      "image/png": "[encoded data removed]",
      "text/plain": [
       "<Figure size 432x288 with 1 Axes>"
      ]
     },
     "metadata": {},
     "output_type": "display_data"
    }
   ],
   "source": [
    "ZhengAn_city_df.loc[:,u'数量'].plot(kind='bar')"
   ]
  },
  {
   "cell_type": "code",
   "execution_count": 28,
   "metadata": {
    "scrolled": false
   },
   "outputs": [
    {
     "data": {
      "text/plain": [
       "<matplotlib.axes._subplots.AxesSubplot at 0x1fa812c5f60>"
      ]
     },
     "execution_count": 28,
     "metadata": {},
     "output_type": "execute_result"
    },
    {
     "data": {
      "image/png": "[encoded data removed]",
      "text/plain": [
       "<Figure size 432x432 with 1 Axes>"
      ]
     },
     "metadata": {},
     "output_type": "display_data"
    }
   ],
   "source": [
    "ZhengAn_city_df.loc[:,u'数量'].plot(kind='pie',autopct='%.2f', figsize=(6, 6))"
   ]
  },
  {
   "cell_type": "code",
   "execution_count": 29,
   "metadata": {
    "scrolled": false
   },
   "outputs": [
    {
     "name": "stdout",
     "output_type": "stream",
     "text": [
      "当月的合作单位共有288家。\n"
     ]
    },
    {
     "data": {
      "text/html": [
       "<div>\n",
       "<style scoped>\n",
       "    .dataframe tbody tr th:only-of-type {\n",
       "        vertical-align: middle;\n",
       "    }\n",
       "\n",
       "    .dataframe tbody tr th {\n",
       "        vertical-align: top;\n",
       "    }\n",
       "\n",
       "    .dataframe thead th {\n",
       "        text-align: right;\n",
       "    }\n",
       "</style>\n",
       "<table border=\"1\" class=\"dataframe\">\n",
       "  <thead>\n",
       "    <tr style=\"text-align: right;\">\n",
       "      <th></th>\n",
       "      <th>数量</th>\n",
       "      <th>百分比</th>\n",
       "    </tr>\n",
       "  </thead>\n",
       "  <tbody>\n",
       "    <tr>\n",
       "      <th>永旺梦乐城（佛山南海）商业管理有限公司</th>\n",
       "      <td>6</td>\n",
       "      <td>0.019048</td>\n",
       "    </tr>\n",
       "    <tr>\n",
       "      <th>佛山普丰仓储经营有限公司</th>\n",
       "      <td>6</td>\n",
       "      <td>0.019048</td>\n",
       "    </tr>\n",
       "    <tr>\n",
       "      <th>德庆县播植镇星悦酒店</th>\n",
       "      <td>2</td>\n",
       "      <td>0.006349</td>\n",
       "    </tr>\n",
       "    <tr>\n",
       "      <th>肇庆市高新区金海岸房地产有限公司</th>\n",
       "      <td>2</td>\n",
       "      <td>0.006349</td>\n",
       "    </tr>\n",
       "    <tr>\n",
       "      <th>广东长达建筑消防工程有限公司</th>\n",
       "      <td>2</td>\n",
       "      <td>0.006349</td>\n",
       "    </tr>\n",
       "    <tr>\n",
       "      <th>广东依明机械科技有限公司</th>\n",
       "      <td>2</td>\n",
       "      <td>0.006349</td>\n",
       "    </tr>\n",
       "    <tr>\n",
       "      <th>清远欧派集成家居有限公司</th>\n",
       "      <td>2</td>\n",
       "      <td>0.006349</td>\n",
       "    </tr>\n",
       "    <tr>\n",
       "      <th>深圳市欧芮歌服饰有限公司</th>\n",
       "      <td>2</td>\n",
       "      <td>0.006349</td>\n",
       "    </tr>\n",
       "    <tr>\n",
       "      <th>东莞东兴花园开发有限公司</th>\n",
       "      <td>2</td>\n",
       "      <td>0.006349</td>\n",
       "    </tr>\n",
       "    <tr>\n",
       "      <th>惠州市德赛电池有限公司</th>\n",
       "      <td>2</td>\n",
       "      <td>0.006349</td>\n",
       "    </tr>\n",
       "  </tbody>\n",
       "</table>\n",
       "</div>"
      ],
      "text/plain": [
       "                     数量       百分比\n",
       "永旺梦乐城（佛山南海）商业管理有限公司   6  0.019048\n",
       "佛山普丰仓储经营有限公司          6  0.019048\n",
       "德庆县播植镇星悦酒店            2  0.006349\n",
       "肇庆市高新区金海岸房地产有限公司      2  0.006349\n",
       "广东长达建筑消防工程有限公司        2  0.006349\n",
       "广东依明机械科技有限公司          2  0.006349\n",
       "清远欧派集成家居有限公司          2  0.006349\n",
       "深圳市欧芮歌服饰有限公司          2  0.006349\n",
       "东莞东兴花园开发有限公司          2  0.006349\n",
       "惠州市德赛电池有限公司           2  0.006349"
      ]
     },
     "execution_count": 29,
     "metadata": {},
     "output_type": "execute_result"
    }
   ],
   "source": [
    "print(u'当月的合作单位共有{}家。'.format(len(count_column(ZhengAn_df,u'委托单位(建设单位)'))))\n",
    "count_column(ZhengAn_df,u'委托单位(建设单位)').head(10)"
   ]
  },
  {
   "cell_type": "markdown",
   "metadata": {},
   "source": [
    "**说明：5月中，与总计84个委托单位合作。其中与`广东省路桥建设发展有限公司汕湛分公司`和`南方医科大学`的合作最为密切。**"
   ]
  }
 ],
 "metadata": {
  "kernelspec": {
   "display_name": "Python 3",
   "language": "python",
   "name": "python3"
  },
  "language_info": {
   "codemirror_mode": {
    "name": "ipython",
    "version": 3
   },
   "file_extension": ".py",
   "mimetype": "text/x-python",
   "name": "python",
   "nbconvert_exporter": "python",
   "pygments_lexer": "ipython3",
   "version": "3.6.5"
  }
 },
 "nbformat": 4,
 "nbformat_minor": 2
}
